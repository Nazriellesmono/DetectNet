{
  "nbformat": 4,
  "nbformat_minor": 0,
  "metadata": {
    "colab": {
      "provenance": []
    },
    "kernelspec": {
      "name": "python3",
      "display_name": "Python 3"
    },
    "language_info": {
      "name": "python"
    }
  },
  "cells": [
    {
      "cell_type": "markdown",
      "source": [
        "#Data Training"
      ],
      "metadata": {
        "id": "T4ABrNFvrr8m"
      }
    },
    {
      "cell_type": "code",
      "execution_count": null,
      "metadata": {
        "id": "uVvvLdklp6hH"
      },
      "outputs": [],
      "source": [
        "import pandas as pd\n",
        "import numpy as np\n",
        "from sklearn.model_selection import train_test_split\n",
        "from sklearn.preprocessing import StandardScaler, OneHotEncoder\n",
        "from sklearn.compose import ColumnTransformer\n",
        "from sklearn.pipeline import Pipeline\n",
        "from sklearn.ensemble import RandomForestClassifier\n",
        "from sklearn.metrics import accuracy_score, precision_score, recall_score, f1_score, confusion_matrix\n",
        "import joblib\n",
        "import seaborn as sns\n",
        "import matplotlib.pyplot as plt\n",
        "\n",
        "# Load the labeled dataset\n",
        "df = pd.read_csv('labeled_network_anomaly_dataset.csv')"
      ]
    },
    {
      "cell_type": "markdown",
      "source": [
        "##1. Define feature columns"
      ],
      "metadata": {
        "id": "nhoOLVpcr4Mn"
      }
    },
    {
      "cell_type": "code",
      "source": [
        "numerical_features = ['packet_count', 'byte_count', 'duration']\n",
        "categorical_features = ['protocol', 'service']\n",
        "ip_features = ['src_ip', 'dst_ip']\n",
        "port_features = ['src_port', 'dst_port']\n",
        "target = 'is_anomaly'"
      ],
      "metadata": {
        "id": "-ntRRvCJr4l4"
      },
      "execution_count": null,
      "outputs": []
    },
    {
      "cell_type": "markdown",
      "source": [
        "##2. Function to extract the last octet from the IP address converting it into a number or integer."
      ],
      "metadata": {
        "id": "r019pJdysLVx"
      }
    },
    {
      "cell_type": "code",
      "source": [
        "def extract_ip_octet(ip_series):\n",
        "    return ip_series.apply(lambda x: int(x.split('.')[-1]))"
      ],
      "metadata": {
        "id": "8PTogFAXsNB6"
      },
      "execution_count": null,
      "outputs": []
    },
    {
      "cell_type": "markdown",
      "source": [
        "##3. Selection, Feature Engineering and Data Sharing (80% train, 20% test)"
      ],
      "metadata": {
        "id": "UpE4n457s8ML"
      }
    },
    {
      "cell_type": "code",
      "source": [
        "X = df[numerical_features + categorical_features + port_features + ip_features].copy()\n",
        "X['src_ip_octet'] = extract_ip_octet(df['src_ip'])\n",
        "X['dst_ip_octet'] = extract_ip_octet(df['dst_ip'])\n",
        "y = df[target]\n",
        "\n",
        "X_train, X_test, y_train, y_test = train_test_split(X, y, test_size=0.2, random_state=42, stratify=y)"
      ],
      "metadata": {
        "id": "KratqOd8swmE"
      },
      "execution_count": null,
      "outputs": []
    },
    {
      "cell_type": "markdown",
      "source": [
        "##4. Pre-processing Pipeline Creation and Main Pipeline Creation"
      ],
      "metadata": {
        "id": "CYeQiF5ntggK"
      }
    },
    {
      "cell_type": "code",
      "source": [
        "preprocessor = ColumnTransformer(\n",
        "    transformers=[\n",
        "        ('num', StandardScaler(), numerical_features),\n",
        "        ('cat', OneHotEncoder(sparse_output=False, handle_unknown='ignore'), categorical_features),\n",
        "        ('port', StandardScaler(), port_features),\n",
        "        ('ip_src', StandardScaler(), ['src_ip_octet']),\n",
        "        ('ip_dst', StandardScaler(), ['dst_ip_octet'])\n",
        "    ])\n",
        "\n",
        "pipeline = Pipeline([\n",
        "    ('preprocessor', preprocessor),\n",
        "    ('classifier', RandomForestClassifier(n_estimators=100, random_state=42, n_jobs=-1))\n",
        "])"
      ],
      "metadata": {
        "id": "8-va27eQtiEx"
      },
      "execution_count": null,
      "outputs": []
    },
    {
      "cell_type": "markdown",
      "source": [
        "#5. Model Training and Prediction"
      ],
      "metadata": {
        "id": "bkwBiu8vuNsK"
      }
    },
    {
      "cell_type": "code",
      "source": [
        "pipeline.fit(X_train, y_train)\n",
        "\n",
        "y_pred = pipeline.predict(X_test)"
      ],
      "metadata": {
        "id": "XH6HVvpwuOqN"
      },
      "execution_count": null,
      "outputs": []
    },
    {
      "cell_type": "markdown",
      "source": [
        "##6. Evaluate and save the model"
      ],
      "metadata": {
        "id": "mWKsJoC1ucmo"
      }
    },
    {
      "cell_type": "code",
      "source": [
        "accuracy = accuracy_score(y_test, y_pred)\n",
        "precision = precision_score(y_test, y_pred)\n",
        "recall = recall_score(y_test, y_pred)\n",
        "f1 = f1_score(y_test, y_pred)\n",
        "conf_matrix = confusion_matrix(y_test, y_pred)\n",
        "\n",
        "# Print evaluation metrics\n",
        "print(\"Random Forest Model Evaluation:\")\n",
        "print(f\"Accuracy: {accuracy:.4f}\")\n",
        "print(f\"Precision: {precision:.4f}\")\n",
        "print(f\"Recall: {recall:.4f}\")\n",
        "print(f\"F1-Score: {f1:.4f}\")\n",
        "print(\"\\nConfusion Matrix:\")\n",
        "print(conf_matrix)\n",
        "\n",
        "# Visualize confusion matrix\n",
        "plt.figure(figsize=(8, 6))\n",
        "sns.heatmap(conf_matrix, annot=True, fmt='d', cmap='Blues', xticklabels=['Normal', 'Anomaly'], yticklabels=['Normal', 'Anomaly'])\n",
        "plt.title('Confusion Matrix')\n",
        "plt.xlabel('Predicted')\n",
        "plt.ylabel('Actual')\n",
        "plt.savefig('confusion_matrix.png')\n",
        "plt.close()\n",
        "\n",
        "# Save the trained model\n",
        "joblib.dump(pipeline, 'random_forest_anomaly_model.joblib')"
      ],
      "metadata": {
        "colab": {
          "base_uri": "https://localhost:8080/"
        },
        "id": "YtooyT3Cudls",
        "outputId": "6b14c8dd-a604-49d1-cb51-c060365cb856"
      },
      "execution_count": null,
      "outputs": [
        {
          "output_type": "stream",
          "name": "stdout",
          "text": [
            "Random Forest Model Evaluation:\n",
            "Accuracy: 0.9948\n",
            "Precision: 0.9759\n",
            "Recall: 0.9725\n",
            "F1-Score: 0.9742\n",
            "\n",
            "Confusion Matrix:\n",
            "[[17932    48]\n",
            " [   55  1943]]\n"
          ]
        },
        {
          "output_type": "execute_result",
          "data": {
            "text/plain": [
              "['random_forest_anomaly_model.joblib']"
            ]
          },
          "metadata": {},
          "execution_count": 8
        }
      ]
    }
  ]
}